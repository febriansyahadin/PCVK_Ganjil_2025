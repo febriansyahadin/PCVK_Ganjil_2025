{
  "nbformat": 4,
  "nbformat_minor": 0,
  "metadata": {
    "colab": {
      "provenance": [],
      "authorship_tag": "ABX9TyPoznF8GVfqmuQh0XDbVf5U",
      "include_colab_link": true
    },
    "kernelspec": {
      "name": "python3",
      "display_name": "Python 3"
    },
    "language_info": {
      "name": "python"
    }
  },
  "cells": [
    {
      "cell_type": "markdown",
      "metadata": {
        "id": "view-in-github",
        "colab_type": "text"
      },
      "source": [
        "<a href=\"https://colab.research.google.com/github/febriansyahadin/PCVK_Ganjil_2025/blob/main/Week3.ipynb\" target=\"_parent\"><img src=\"https://colab.research.google.com/assets/colab-badge.svg\" alt=\"Open In Colab\"/></a>"
      ]
    },
    {
      "cell_type": "code",
      "execution_count": 1,
      "metadata": {
        "id": "Ijwn5J904kBQ",
        "colab": {
          "base_uri": "https://localhost:8080/"
        },
        "outputId": "0d3cb22c-c067-4373-95fb-94dcbd38b73d"
      },
      "outputs": [
        {
          "output_type": "stream",
          "name": "stdout",
          "text": [
            "Mounted at /content/drive\n"
          ]
        }
      ],
      "source": [
        "from google.colab import drive\n",
        "drive.mount('/content/drive')"
      ]
    },
    {
      "cell_type": "code",
      "source": [
        "import cv2\n",
        "import numpy as np\n",
        "from google.colab.patches import cv2_imshow\n",
        "\n",
        "print(' Mengubah tingkat kecerahan citra ')\n",
        "print('---------------------------------')\n",
        "try:\n",
        "    brightness = int(input('Masukkan nilai kecerahan: '))\n",
        "except ValueError:\n",
        "    print('Error, not a number')\n",
        "\n",
        "original = cv2.imread('/content/drive/MyDrive/images/female.jpeg')\n",
        "brightness_image = np.zeros(original.shape, original.dtype)\n",
        "\n",
        "# akses per piksel\n",
        "for y in range(original.shape[0]):\n",
        "    for x in range(original.shape[1]):\n",
        "        for c in range(original.shape[2]):\n",
        "            brightness_image[y, x, c] = np.clip(original[y, x, c] + brightness, 0, 255)\n",
        "\n",
        "# cara simple tanpa for loop\n",
        "# brightness_image = cv2.convertScaleAbs(original, beta=brightness)\n",
        "\n",
        "final_frame = cv2.hconcat([original, brightness_image])\n",
        "cv2_imshow(final_frame)"
      ],
      "metadata": {
        "id": "wHAmEp2e525Z"
      },
      "execution_count": null,
      "outputs": []
    }
  ]
}